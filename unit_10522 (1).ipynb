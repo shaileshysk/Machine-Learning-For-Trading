{
 "cells": [
  {
   "cell_type": "markdown",
   "id": "f1178c71-8e3a-45a0-8fac-4469c8789939",
   "metadata": {},
   "source": [
    "# Notebook Instructions\n",
    "\n",
    "1. If you are new to Jupyter notebooks, please go through this introductory manual <a href='https://quantra.quantinsti.com/quantra-notebook' target=\"_blank\">here</a>.\n",
    "1. Any changes made in this notebook would be lost after you close the browser window. **You can download the notebook to save your work on your PC.**\n",
    "1. Before running this notebook on your local PC:<br>\n",
    "i.  You need to set up a Python environment and the relevant packages on your local PC. To do so, go through the section on \"**Run Codes Locally on Your Machine**\" in the course.<br>\n",
    "ii. You need to **download the zip file available in the last unit** of this course. The zip file contains the data files and/or python modules that might be required to run this notebook."
   ]
  },
  {
   "cell_type": "markdown",
   "id": "3ea7dcb4",
   "metadata": {
    "id": "WWSuv0eirwDg"
   },
   "source": [
    "## Recent News Headlines\n",
    "\n",
    "There are various Python APIs such as [Webhose](http://webhose.io/), [NewsAPI](http://newsapi.org/pricing), [News Fetch](https://pypi.org/project/news-fetch/), [GoogleNews](http://pypi.org/project/GoogleNews/) etc. which aggregate news headlines from various media sources. The framework for using these APIs/libraries are somewhat similar. \n",
    "\n",
    "The general steps are:\n",
    "\n",
    "1. Install and import the library\n",
    "\n",
    "2. Get API key (Not required in some cases)\n",
    "\n",
    "2. Use filters such as keywords, language, timeframe etc. \n",
    "\n",
    "3. Fetch articles\n",
    "\n",
    "To use a specific API/library, you need to read its documentation.  \n",
    "\n",
    "\n",
    "In this notebook, you will learn how to fetch news articles from the [NewsAPI](http://newsapi.org/pricing). We will follow the below steps:\n",
    "\n",
    "1. Import NewsAPI library\n",
    "2. Get the API Key\n",
    "3. Apply filters\n",
    "3. Fetch the news articles"
   ]
  },
  {
   "cell_type": "code",
   "execution_count": 7,
   "id": "270103e2",
   "metadata": {},
   "outputs": [
    {
     "name": "stdout",
     "output_type": "stream",
     "text": [
      "Defaulting to user installation because normal site-packages is not writeable\n",
      "Requirement already satisfied: newsapi-python in /home/nb-user/.local/lib/python3.9/site-packages (0.2.7)\n",
      "Requirement already satisfied: requests<3.0.0 in /usr/local/lib/python3.9/site-packages (from newsapi-python) (2.28.1)\n",
      "Requirement already satisfied: certifi>=2017.4.17 in /usr/local/lib/python3.9/site-packages (from requests<3.0.0->newsapi-python) (2022.6.15)\n",
      "Requirement already satisfied: charset-normalizer<3,>=2 in /usr/local/lib/python3.9/site-packages (from requests<3.0.0->newsapi-python) (2.1.0)\n",
      "Requirement already satisfied: idna<4,>=2.5 in /usr/local/lib/python3.9/site-packages (from requests<3.0.0->newsapi-python) (3.3)\n",
      "Requirement already satisfied: urllib3<1.27,>=1.21.1 in /usr/local/lib/python3.9/site-packages (from requests<3.0.0->newsapi-python) (1.26.11)\n",
      "\u001b[33mWARNING: You are using pip version 21.1.2; however, version 24.0 is available.\n",
      "You should consider upgrading via the '/usr/local/bin/python -m pip install --upgrade pip' command.\u001b[0m\n"
     ]
    }
   ],
   "source": [
    "!pip install newsapi-python"
   ]
  },
  {
   "cell_type": "markdown",
   "id": "79b56902",
   "metadata": {
    "id": "er7dQNWurwDh"
   },
   "source": [
    "## Import libraries\n",
    "Before importing NewsAPI package, you need to install it. You can do that using the pip command. "
   ]
  },
  {
   "cell_type": "code",
   "execution_count": 8,
   "id": "10bea609",
   "metadata": {
    "id": "sbwHodXPrwDh"
   },
   "outputs": [],
   "source": [
    "# Import pandas and numpy\n",
    "import pandas as pd\n",
    "import numpy as np\n",
    "\n",
    "# Import NewsAPI module\n",
    "from newsapi import NewsApiClient\n",
    "\n",
    "import warnings\n",
    "warnings.simplefilter('ignore')"
   ]
  },
  {
   "cell_type": "markdown",
   "id": "871a7bab",
   "metadata": {},
   "source": [
    "Here we are initialising NewsApiClient with an API Key. You can get a free API key by registering on the [NewsAPI website](https://newsapi.org/).\n",
    "\n",
    "**Note: This notebook will only run if you add your API key in the below cell.**"
   ]
  },
  {
   "cell_type": "code",
   "execution_count": 9,
   "id": "4f05f944",
   "metadata": {},
   "outputs": [],
   "source": [
    "# Initialize NewsApiClient with your API key\n",
    "newsapi = NewsApiClient(api_key='62187706a19d439f96cbdc9f626a4893')"
   ]
  },
  {
   "cell_type": "markdown",
   "id": "457b5dc7",
   "metadata": {
    "id": "Itl-_JHUrwDi"
   },
   "source": [
    "## Apply filters\n",
    "\n",
    "We will apply filters to get the news articles. You can filter by:\n",
    "    \n",
    "**Keywords:** List of the keywords which you want to search it can be anything such as business, stocks, apple, economy.\n",
    "\n",
    "In the below example, we are using keywords related to stock Apple(`AAPL`)."
   ]
  },
  {
   "cell_type": "code",
   "execution_count": 10,
   "id": "0d64c3c2",
   "metadata": {
    "id": "jRTQadbjrwDj"
   },
   "outputs": [],
   "source": [
    "keywords = ['Reliance Industries', 'Reliance Industries-Revenue', 'Reliance Industries-Sales', 'Reliance Industries', 'RIL']"
   ]
  },
  {
   "cell_type": "markdown",
   "id": "bc901f79",
   "metadata": {
    "id": "RE69Sww8rwDj"
   },
   "source": [
    "## Fetch the news articles\n",
    "\n",
    "We create a dataframe that stores all the relevant information required from a news article, such as date, time, title/headline, description of the news article, and the source."
   ]
  },
  {
   "cell_type": "code",
   "execution_count": 11,
   "id": "d7c2aca1",
   "metadata": {},
   "outputs": [
    {
     "data": {
      "text/html": [
       "<div>\n",
       "<style scoped>\n",
       "    .dataframe tbody tr th:only-of-type {\n",
       "        vertical-align: middle;\n",
       "    }\n",
       "\n",
       "    .dataframe tbody tr th {\n",
       "        vertical-align: top;\n",
       "    }\n",
       "\n",
       "    .dataframe thead th {\n",
       "        text-align: right;\n",
       "    }\n",
       "</style>\n",
       "<table border=\"1\" class=\"dataframe\">\n",
       "  <thead>\n",
       "    <tr style=\"text-align: right;\">\n",
       "      <th></th>\n",
       "      <th>Date</th>\n",
       "      <th>Title</th>\n",
       "      <th>Articles</th>\n",
       "      <th>Link</th>\n",
       "    </tr>\n",
       "  </thead>\n",
       "  <tbody>\n",
       "    <tr>\n",
       "      <th>496</th>\n",
       "      <td>2024-03-15 05:29:43+00:00</td>\n",
       "      <td>OMC stocks plunge up to 8% on cut in petrol, d...</td>\n",
       "      <td>OMCs' stocks plummeted up to 8% after a Rs 2 p...</td>\n",
       "      <td>https://economictimes.indiatimes.com/markets/s...</td>\n",
       "    </tr>\n",
       "    <tr>\n",
       "      <th>497</th>\n",
       "      <td>2024-03-15 00:31:00+00:00</td>\n",
       "      <td>Stocks in news: Paytm, Vedanta, IIFL Finance, ...</td>\n",
       "      <td>Vedanta's plan to demerge its businesses into ...</td>\n",
       "      <td>https://economictimes.indiatimes.com/markets/s...</td>\n",
       "    </tr>\n",
       "    <tr>\n",
       "      <th>498</th>\n",
       "      <td>2024-03-14 19:15:41+00:00</td>\n",
       "      <td>Paramount Global to sell 13 pc stake in Indian...</td>\n",
       "      <td>Strap: Viacom18 is a material subsidiary of TV...</td>\n",
       "      <td>https://thehillstimes.in/business/paramount-gl...</td>\n",
       "    </tr>\n",
       "    <tr>\n",
       "      <th>499</th>\n",
       "      <td>2024-03-14 19:14:34+00:00</td>\n",
       "      <td>Paramount to sell its remaining stake in Viaco...</td>\n",
       "      <td>Paramount Global is set to sell its remaining ...</td>\n",
       "      <td>https://economictimes.indiatimes.com/industry/...</td>\n",
       "    </tr>\n",
       "    <tr>\n",
       "      <th>500</th>\n",
       "      <td>2024-03-14 15:40:24+00:00</td>\n",
       "      <td>Ahead of Market: 10 things that will decide D-...</td>\n",
       "      <td>The 30-share BSE Sensex climbed 335.39 points ...</td>\n",
       "      <td>https://economictimes.indiatimes.com/markets/s...</td>\n",
       "    </tr>\n",
       "  </tbody>\n",
       "</table>\n",
       "</div>"
      ],
      "text/plain": [
       "                         Date  \\\n",
       "496 2024-03-15 05:29:43+00:00   \n",
       "497 2024-03-15 00:31:00+00:00   \n",
       "498 2024-03-14 19:15:41+00:00   \n",
       "499 2024-03-14 19:14:34+00:00   \n",
       "500 2024-03-14 15:40:24+00:00   \n",
       "\n",
       "                                                 Title  \\\n",
       "496  OMC stocks plunge up to 8% on cut in petrol, d...   \n",
       "497  Stocks in news: Paytm, Vedanta, IIFL Finance, ...   \n",
       "498  Paramount Global to sell 13 pc stake in Indian...   \n",
       "499  Paramount to sell its remaining stake in Viaco...   \n",
       "500  Ahead of Market: 10 things that will decide D-...   \n",
       "\n",
       "                                              Articles  \\\n",
       "496  OMCs' stocks plummeted up to 8% after a Rs 2 p...   \n",
       "497  Vedanta's plan to demerge its businesses into ...   \n",
       "498  Strap: Viacom18 is a material subsidiary of TV...   \n",
       "499  Paramount Global is set to sell its remaining ...   \n",
       "500  The 30-share BSE Sensex climbed 335.39 points ...   \n",
       "\n",
       "                                                  Link  \n",
       "496  https://economictimes.indiatimes.com/markets/s...  \n",
       "497  https://economictimes.indiatimes.com/markets/s...  \n",
       "498  https://thehillstimes.in/business/paramount-gl...  \n",
       "499  https://economictimes.indiatimes.com/industry/...  \n",
       "500  https://economictimes.indiatimes.com/markets/s...  "
      ]
     },
     "execution_count": 11,
     "metadata": {},
     "output_type": "execute_result"
    }
   ],
   "source": [
    "# Dataframe to store the news article information\n",
    "article_info = pd.DataFrame(columns=['Date', 'Title', 'Articles', 'Link'])\n",
    "\n",
    "# Fetch news articles for each keyword\n",
    "for keyword in keywords:\n",
    "    # Fetch news articles using News API\n",
    "    articles = newsapi.get_everything(q=keyword, language='en', sort_by='publishedAt', page_size=100)\n",
    "\n",
    "    # Extract article details and append to the DataFrame\n",
    "    for article in articles['articles']:\n",
    "        date = pd.to_datetime(article['publishedAt'])\n",
    "        title = article['title']\n",
    "        articles = article['description']\n",
    "        link = article['url']\n",
    "\n",
    "        article_info = article_info.append({'Date': date, 'Title': title,\n",
    "                                            'Articles': articles, 'Link': link}, ignore_index=True)\n",
    "\n",
    "# Resetting the index of the final result\n",
    "article_info.index = pd.RangeIndex(start=1, stop=len(article_info) + 1, step=1)\n",
    "article_info.tail()"
   ]
  },
  {
   "cell_type": "markdown",
   "id": "2642ed1a",
   "metadata": {
    "id": "fStNZAVerwDm"
   },
   "source": [
    "### Tweak the code\n",
    "\n",
    "1. Try fetching the news articles of different keywords or for different stocks such as Tesla, Microsoft etc.\n",
    "2. Increase the page count to fetch the articles for longer duration.\n",
    "3. Change the date range.<br><br>"
   ]
  }
 ],
 "metadata": {
  "colab": {
   "collapsed_sections": [],
   "name": "Getting Recent News Feed.ipynb",
   "provenance": []
  },
  "kernelspec": {
   "display_name": "Python 3 (ipykernel)",
   "language": "python",
   "name": "python3"
  },
  "language_info": {
   "codemirror_mode": {
    "name": "ipython",
    "version": 3
   },
   "file_extension": ".py",
   "mimetype": "text/x-python",
   "name": "python",
   "nbconvert_exporter": "python",
   "pygments_lexer": "ipython3",
   "version": "3.9.5"
  }
 },
 "nbformat": 4,
 "nbformat_minor": 5
}
